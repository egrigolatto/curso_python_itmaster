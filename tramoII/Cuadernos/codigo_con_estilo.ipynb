{
 "cells": [
  {
   "cell_type": "markdown",
   "metadata": {},
   "source": [
    "### Convenciones de nombres"
   ]
  },
  {
   "cell_type": "markdown",
   "metadata": {},
   "source": [
    "1. Para declarar variables, funciones, clases, paquetes, etc. utilizar nombres que describan su uso: \n",
    "imprimir_factura, edad, importe, IVA, Cliente\n",
    "\n",
    "2. Cuando se utilicen nombres cortos de un carácter evitar los caracteres l, I y O para no confundirlos con otros caracteres parecidos: 1, 0.\n",
    "\n",
    "3. Para los nombres de variables usar una letra, una palabra o varias palabras, en minúsculas. Es recomendable separar las palabras con guiones bajos para mejorar la legibilidad: z, contador, kms_cuadrados.\n",
    "\n",
    "4. Para los nombres de constantes usar una letra, una palabra o varias palabras, en mayúsculas. Es recomendable separar las palabras con guiones bajos para ganar en legibilidad: E, GRAVEDAD, VELOCIDAD_LUZ.\n",
    "\n",
    "5. Para los nombres de funciones, de métodos y de módulos usar una palabra o varias palabras, en minúsculas. Para mayor claridad es recomendable separar las palabras con guiones bajos: invertir, aplicar_dto, mi_modulo.py\n",
    "\n",
    "6. Para los nombres de clases usar una palabra o varias palabras, en minúsculas pero con la inicial en mayúsculas: Usuario,VehiculoDeportivo.\n",
    "\n",
    "7. Para los nombres de excepciones usar una palabra o varias palabras, en minúsculas pero con la inicial en mayúsculas. Cuando se trate de un error los nombres deberían contener el sufijo \"Error\": ErrorCalculoFechas\n",
    "\n",
    "8. Para los nombres de paquetes usar una palabra o varias palabras, en minúsculas: paqcorreo, funconver.\n",
    "\n",
    "9. El doble guion bajo al principio y final de un nombre está reservado para determinados objetos y atributos con nombres predefinidos (como __name__, __file__, __init__)."
   ]
  },
  {
   "cell_type": "markdown",
   "metadata": {},
   "source": [
    "## Diseño \n",
    "\n",
    "### Líneas de código"
   ]
  },
  {
   "cell_type": "markdown",
   "metadata": {},
   "source": [
    "10. Las líneas de código deben tener una longitud máxima de 79 caracteres.\n",
    "\n",
    "11. Las líneas largas que superen la longitud máxima se dividirán en varias líneas utilizando, preferentemente, la continuación de línea implícita que conlleva el uso de paréntesis, corchetes y llaves:"
   ]
  },
  {
   "cell_type": "code",
   "execution_count": 2,
   "metadata": {},
   "outputs": [
    {
     "data": {
      "text/plain": [
       "['uno', 'dos', 'tres', 'cuatro', 'cinco', 'seis', 'siete']"
      ]
     },
     "execution_count": 2,
     "metadata": {},
     "output_type": "execute_result"
    }
   ],
   "source": [
    "lista1 = ['uno', 'dos', 'tres', 'cuatro', \n",
    "          'cinco', 'seis', 'siete']\n",
    "\n",
    "lista1"
   ]
  },
  {
   "cell_type": "markdown",
   "metadata": {},
   "source": [
    "12. En otros casos para dividir una línea que supere el límite debe utilizarse la barra diagonal invertida \"\\\"-"
   ]
  },
  {
   "cell_type": "code",
   "execution_count": 4,
   "metadata": {},
   "outputs": [],
   "source": [
    "variable1 = 1\n",
    "variable2 = 1\n",
    "variable3 = 1\n",
    "variable4 = 1\n",
    "if variable1 > variable2 and variable3 > variable4 \\\n",
    "   or variable1 > variable4:\n",
    "    pass"
   ]
  },
  {
   "cell_type": "markdown",
   "metadata": {},
   "source": [
    "13. Cuando se trate de operaciones matemáticas extensas otra forma de dividir una línea, que da más claridad al cálculo que se realiza, consiste en situar cada operando en una línea precedido del operador. Desde el punto de vista matemático tiene más sentido leer primero el operador y después la variable a la que afecta."
   ]
  },
  {
   "cell_type": "code",
   "execution_count": null,
   "metadata": {},
   "outputs": [],
   "source": [
    "total = (variable1\n",
    "         + variable2\n",
    "         - variable3\n",
    "         - variable4)\n"
   ]
  },
  {
   "cell_type": "markdown",
   "metadata": {},
   "source": [
    "### Codificación\n",
    "\n",
    "14. En Python 3 los archivos de programas que utilicen la codificación UTF-8 no requieren incluir la siguiente declaración al principio del código:"
   ]
  },
  {
   "cell_type": "code",
   "execution_count": null,
   "metadata": {},
   "outputs": [],
   "source": [
    "# -*- coding: utf-8 -*-"
   ]
  },
  {
   "cell_type": "markdown",
   "metadata": {},
   "source": [
    "La mayoría de los editores incorporan una opción para establecer esta codificación por defecto:\n",
    "\n",
    "En Visual Studio Code la opción está en el menú Archivo, Preferencias, Editor de texto, Archivos, Encoding.\n",
    "\n",
    "Visual Studio Code muestra en la barra de estado la codificación de los archivos fuente con los que se trabaja en un momento dado."
   ]
  },
  {
   "cell_type": "markdown",
   "metadata": {},
   "source": [
    "### Líneas en blanco\n",
    "\n",
    "15. Antes y después de la definición de una función o una clase se deben dejar dos líneas en blanco."
   ]
  },
  {
   "cell_type": "code",
   "execution_count": null,
   "metadata": {},
   "outputs": [],
   "source": [
    "def funcion1():\n",
    "    pass\n",
    "\n",
    "\n",
    "def funcion2():\n",
    "    pass\n",
    "\n",
    "\n",
    "variable1 = 0\n",
    "variable2 = 1"
   ]
  },
  {
   "cell_type": "markdown",
   "metadata": {},
   "source": [
    "16. Antes y después de la definición los métodos de una clase dejar una línea en blanco."
   ]
  },
  {
   "cell_type": "code",
   "execution_count": null,
   "metadata": {},
   "outputs": [],
   "source": [
    "class Clase1():\n",
    "    \"\"\"clase Clase1\"\"\"\n",
    "    varclase1 = \"variable de clase1\"\n",
    "\n",
    "    def metodo1(self, var1):\n",
    "        self.var1 = var1\n",
    "\n",
    "    def metodo2(self):\n",
    "        self.var1 += 1   "
   ]
  },
  {
   "cell_type": "markdown",
   "metadata": {},
   "source": [
    "17. En funciones y métodos extensos en los que sea posible agrupar el código en bloques que identifiquen diferentes procesos, para facilitar la comprensión dejar una línea en blanco de separación entre ellos. No agregar líneas en blanco al final del código."
   ]
  },
  {
   "cell_type": "markdown",
   "metadata": {},
   "source": [
    "### indentación (Sangría)\n",
    "\n",
    "18. Sangrar el código significa mover un bloque del mismo hacia la derecha insertando espacios o tabuladores para mejorar su legibilidad. Para sangrar el código utilizar preferentemente el carácter del espacio en blanco. Se recomienda utilizar sangrias de 4 espacios en blanco en cada nivel. (Python 3 no permite mezclar sangrías de espacios con las basadas en tabuladores)."
   ]
  },
  {
   "cell_type": "code",
   "execution_count": null,
   "metadata": {},
   "outputs": [],
   "source": [
    "var1 = 0\n",
    "var2 = 10\n",
    "valor = var1 + var2\n",
    "if var1 > valor:\n",
    "    print('Cadena de texto1')\n",
    "    if not var2:\n",
    "        print('Cadena de texto2')"
   ]
  },
  {
   "cell_type": "markdown",
   "metadata": {},
   "source": [
    "19. Cuando una sentencia ocupa más de una línea, el código que sigue en la siguiente línea puede estar alineado con el carácter delimitador de apertura."
   ]
  },
  {
   "cell_type": "code",
   "execution_count": null,
   "metadata": {},
   "outputs": [],
   "source": [
    "lista1 = ['texto1', 'texto2', 'texto3', \n",
    "          'texto4', 'texto5', 'texto6']\n",
    "lista1"
   ]
  },
  {
   "cell_type": "markdown",
   "metadata": {},
   "source": [
    "20. El paréntesis, el corchete y la llave de cierre pueden alinearse bajo el primer carácter del primer elemento de la lista de la línea anterior:"
   ]
  },
  {
   "cell_type": "code",
   "execution_count": null,
   "metadata": {},
   "outputs": [],
   "source": [
    "lista1 = [\n",
    "    \"elemento1\", \"elemento2\",\n",
    "    \"elemento3\", \"elemento4\"\n",
    "    ]\n",
    "\n",
    "lista1"
   ]
  },
  {
   "cell_type": "markdown",
   "metadata": {},
   "source": [
    "21. El cierre también puede estar alineado con el primer carácter de la primera línea donde comience la sentencia:"
   ]
  },
  {
   "cell_type": "code",
   "execution_count": null,
   "metadata": {},
   "outputs": [],
   "source": [
    "lista1 = [\n",
    "    \"elemento1\", \"elemento2\",\n",
    "    \"elemento3\", \"elemento4\"\n",
    "]\n",
    "\n",
    "lista1"
   ]
  },
  {
   "cell_type": "markdown",
   "metadata": {},
   "source": [
    "22. En declaraciones de funciones o clases que abarcan más de una línea se puede dejar una sangría doble (de 8 espacios) en el código que sigue en la siguiente línea para que se distingan adecuadamente los argumentos:"
   ]
  },
  {
   "cell_type": "code",
   "execution_count": null,
   "metadata": {},
   "outputs": [],
   "source": [
    "def funcion(\n",
    "        valor1, valor2, valor3):\n",
    "    total = valor1 + valor2 + valor3\n",
    "    total = total * 25\n",
    "    return total\n",
    "\n",
    "print(f'Resultado: {funcion(1,2,3)}')"
   ]
  },
  {
   "cell_type": "markdown",
   "metadata": {},
   "source": [
    "23. Si se escriben argumentos en la primera línea los que continúan en la siguiente debe estar alineados verticalmente con los primeros:"
   ]
  },
  {
   "cell_type": "code",
   "execution_count": null,
   "metadata": {},
   "outputs": [],
   "source": [
    "def funcion(var1, var2, \n",
    "            var3):\n",
    "    total = var1 + var2 + var3\n",
    "    return(total * 5)\n",
    "\n",
    "print(f'Resultado: {funcion(1,2,3)}')"
   ]
  },
  {
   "cell_type": "markdown",
   "metadata": {},
   "source": [
    "24. En la asignación de una función a una variable los argumentos se escriben agregando una sangría de cuatro espacios. Este tipo de sangría se llama colgante porque en la declaración, que abarca varias líneas, todas las líneas están sangradas excepto la primera. En la primera línea donde aparece el nombre de la función no se incluyen argumentos (o ningún elemento si se tratara de la asignación de una lista, etc.)."
   ]
  },
  {
   "cell_type": "code",
   "execution_count": null,
   "metadata": {},
   "outputs": [],
   "source": [
    "def obtener_datos(a,b,c,d):\n",
    "    return a + b + c + d\n",
    "\n",
    "var1 = 0\n",
    "var2 = 1\n",
    "var3 = 2\n",
    "var4 = 3\n",
    "datos1 = obtener_datos(\n",
    "    var1, var2,\n",
    "    var3, var4)\n",
    "datos2 = 34\n",
    "datos1,datos2"
   ]
  },
  {
   "cell_type": "markdown",
   "metadata": {},
   "source": [
    "25. Otra posibilidad que contempla PEP 8 cuando se asigna una función a una variable consiste e escribir los argumentos dejando una sangría con un número de espacios menor de 4."
   ]
  },
  {
   "cell_type": "code",
   "execution_count": null,
   "metadata": {},
   "outputs": [],
   "source": [
    "datos1 = obtener_datos(\n",
    "  var1, var2,\n",
    "  var3, var4)\n",
    "datos2 = 34\n",
    "datos1,datos2"
   ]
  },
  {
   "cell_type": "markdown",
   "metadata": {},
   "source": [
    "26. En declaraciones if que ocupan varias lineas la suma de los dos caracteres \"if\" más el espacio en blanco que le sigue más un paréntesis en la primera línea definen el espacio equivalente a una sangría de 4 espacios para las siguientes líneas. Esta coincidencia puede suponer un conflicto visual cuando finaliza la condición y a partir de la siguiente línea se continúa añadiendo código manteniendo la misma sangría. Se puede optar por no añadir una sangría extra si no afecta esta situación a la legibilidad:"
   ]
  },
  {
   "cell_type": "code",
   "execution_count": null,
   "metadata": {},
   "outputs": [],
   "source": [
    "var1 = 0\n",
    "var2 = 1\n",
    "var3 = 2\n",
    "var4 = 3\n",
    "\n",
    "condicion1 = var1 == 2\n",
    "condicion2 = var3 and condicion1\n",
    "condicion3 = var4 > 1\n",
    "condicion4 = condicion2 or condicion3\n",
    "\n",
    "if (condicion1 and condicion2 and\n",
    "    condicion3 and condicion4):\n",
    "    var1 = var2\n",
    "var1,var2,var3,var4,condicion1,condicion2,condicion3,condicion4"
   ]
  },
  {
   "cell_type": "markdown",
   "metadata": {},
   "source": [
    "27. Otra posibilidad consiste en insertar un comentario que delimite la declaración if del resto de líneas:"
   ]
  },
  {
   "cell_type": "code",
   "execution_count": null,
   "metadata": {},
   "outputs": [],
   "source": [
    "if (condicion1 and condicion2 and\n",
    "    condicion3 and condicion4):\n",
    "    # Si todas las condiciones son ciertas se asigna var2 a var1\n",
    "    var1 = var2"
   ]
  },
  {
   "cell_type": "markdown",
   "metadata": {},
   "source": [
    "28. O añadir una sangría adicional en la declaración if en la segunda línea:"
   ]
  },
  {
   "cell_type": "code",
   "execution_count": null,
   "metadata": {},
   "outputs": [],
   "source": [
    "if (condicion1 and condicion2 and\n",
    "        condicion3 and condicion4):\n",
    "    var1 = var2\n"
   ]
  },
  {
   "cell_type": "markdown",
   "metadata": {},
   "source": [
    "### Comentarios\n",
    "\n",
    "29. Las líneas que contengan comentarios o cadenas de documentación deben tener una longitud máxima de 72 caracteres."
   ]
  },
  {
   "cell_type": "code",
   "execution_count": null,
   "metadata": {},
   "outputs": [],
   "source": [
    "# Lista de funciones\n",
    "\n",
    "def funcion1(x, y):\n",
    "    \"\"\"\n",
    "    Función: funcion1\n",
    "    Devuelve el resultado de la operación x+y\n",
    "    \"\"\"\n",
    "    return x + y\n",
    "\n",
    "print(f'Resultado: {funcion1(10, 88)}')\n",
    "print(funcion1.__doc__)"
   ]
  },
  {
   "cell_type": "markdown",
   "metadata": {},
   "source": [
    "30. Los comentarios deben estar construidos con oraciones completas que hay que actualizar cuando el código sufra algún cambio. Un comentario comienza con el carácter # seguido de un espacio en blanco al que sigue el texto comenzando su escritura con mayúsculas y terminando cada oración con un punto. Si el comentario está formado por varias oraciones hay que separarlas con con dos espacios en blanco. Si el comentario es corto no es necesario terminar conun punto."
   ]
  },
  {
   "cell_type": "code",
   "execution_count": null,
   "metadata": {},
   "outputs": [],
   "source": [
    "# Esta es la primera oración.  Y sigue otra separada con dos espacios."
   ]
  },
  {
   "cell_type": "markdown",
   "metadata": {},
   "source": [
    "31. Los comentarios de un bloque de código sangrado deben comenzar su escritura manteniendo el mismo nivel de sangrado. Si el comentario está formado por varios párrafos tendremos que dejar entre ellos una línea en blanco que comience con el carácter #."
   ]
  },
  {
   "cell_type": "code",
   "execution_count": null,
   "metadata": {},
   "outputs": [],
   "source": [
    "if condicion1 or condicion2:\n",
    "    # Primer párrafo del comentario.\n",
    "    #\n",
    "    # Segundo párrafo del comentario.\n",
    "    variable1 = variable2 ** 2\n",
    "    print(f'Resultado: {fucion1(variable1)}')"
   ]
  },
  {
   "cell_type": "markdown",
   "metadata": {},
   "source": [
    "32. En líneas que contengan código utilizar con moderación los comentarios. Deben servir para aclarar algún punto no para redundar en lo obvio. Comenzar la escritura del comentario dejando dos espacios en blanco."
   ]
  },
  {
   "cell_type": "code",
   "execution_count": null,
   "metadata": {},
   "outputs": [],
   "source": [
    "x = 1\n",
    "y = 2\n",
    "z = 3\n",
    "variable1 = variable2 + (x * y * z)  # Comentario de línea\n",
    "\n",
    "variable1"
   ]
  },
  {
   "cell_type": "markdown",
   "metadata": {},
   "source": [
    "33. Una cadena de documentación o docscring es un texto delimitado o entre triples comillas -simples (''') o dobles (\"\"\")- situado al principio de un módulo, una clase, una función o un método que sirve para explicar la utilidad del código. En cadenas de documentación multilineas terminar el texto situando la triple comillas de cierre aislada en la línea final. Preferentemente, emplear la triple comillas doble y en docstring de una línea cerrar la cadena en la misma línea. Para más información consultar el documento PEP 257."
   ]
  },
  {
   "cell_type": "code",
   "execution_count": null,
   "metadata": {},
   "outputs": [],
   "source": [
    "def funcion1(param1, param2):\n",
    "    \"\"\"Función que devuelve ...\n",
    "\n",
    "    Texto explicativo detallando procesos...\n",
    "    Si param1 > param2:\n",
    "    valor = param1 * param2\n",
    "    En caso contrario:\n",
    "    valor = param1 / param2\n",
    "    \n",
    "    \"\"\"\n",
    "    if param1 > param2:\n",
    "        total = param1 * param2\n",
    "    else:\n",
    "        total = param1 / param2\n",
    "    \n",
    "    return total\n",
    "\n",
    "print(f'Resultado: {funcion1(2,5)}')\n",
    "\"\"\" Cadena de documentación de una línea \"\"\"\n",
    "print(funcion1.__doc__)"
   ]
  },
  {
   "cell_type": "markdown",
   "metadata": {},
   "source": [
    "### Espacios en blanco\n",
    "\n",
    "34. En asignaciones que utilizan el signo igual (=) o (+=, -=, etc.) agregar un espacio en blanco delante y después del signo. Aplicar la misma recomendación con los operadores de comparación (==, <, >, !=, <>, <=, >=, in, not in, is, is not), con los operadores booleanos (and, or, not) y con las flechas (->) en las anotaciones de las funciones."
   ]
  },
  {
   "cell_type": "code",
   "execution_count": null,
   "metadata": {},
   "outputs": [],
   "source": [
    "var1 = 1\n",
    "var2 += 1\n",
    "if var1 == var2:\n",
    "    var3 = 3\n",
    "if not var1 and var2 is int:\n",
    "    print(var1)\n",
    "\n",
    "\n",
    "def funcion1() -> str:\n",
    "    pass"
   ]
  },
  {
   "cell_type": "markdown",
   "metadata": {},
   "source": [
    "35. En asignaciones a parámetros de funciones o métodos no añadir espacio en blanco delante y detrás del signo igual (=)."
   ]
  },
  {
   "cell_type": "code",
   "execution_count": null,
   "metadata": {},
   "outputs": [],
   "source": [
    "def funcion1(var1=0, var2=0):\n",
    "    pass"
   ]
  },
  {
   "cell_type": "markdown",
   "metadata": {},
   "source": [
    "36. Cuando se utilicen operadores con diferentes prioridades, considerar agregar espacios en blanco alrededor de los operadores con las prioridades más bajas. También se puede seguir la misma pauta con declaraciones if donde hay múltiples condiciones."
   ]
  },
  {
   "cell_type": "code",
   "execution_count": null,
   "metadata": {},
   "outputs": [],
   "source": [
    "var1 = 1*var2 + 2/var3\n",
    "var2 = (x+y) * (x-y)\n",
    "\n",
    "if var1 > 0 and var2 != 10:\n",
    "    pass"
   ]
  },
  {
   "cell_type": "markdown",
   "metadata": {},
   "source": [
    "37. En sentencias que utilizan el método [::] que referencia a un subconjunto de elementos de una secuencia (como un grupo de caracteres de una cadena de texto, elementos de una lista, etc) no agregar espacios delante o detrás de los dos puntos (:) a no ser que mejore la legibilidad de una expresión. En referencias a elementos de listas, tuplas y diccionarios no incluir espacios en blanco, ni antes ni después."
   ]
  },
  {
   "cell_type": "code",
   "execution_count": null,
   "metadata": {},
   "outputs": [],
   "source": [
    "dicc1 = {}\n",
    "lista1 = [1,2,3,4,5]\n",
    "tupla2 = (1,1,1)\n",
    "tupla1 = (lista1[1:9], lista1[1:9:3], tupla2[1])\n",
    "var1 = lista1[x+1 : x+y+1]\n",
    "dicc1['a'] = lista1[0]"
   ]
  },
  {
   "cell_type": "markdown",
   "metadata": {},
   "source": [
    "38. En expresiones y declaraciones entre paréntesis, corchetes y llaves no agregar inmediatamente después de la apertura o antes del cierre espacios en blanco. Después de una coma añadir un espacio en blanco, excepto entre una coma final y el cierre. No agregar espacios en blanco delante de una coma, punto y coma o dos puntos. No se recomienda dejar espacios delante del paréntesis de apertura que recoge los argumentos de una función. Tampoco después de una declaración al final de la línea, ni entre variables y sus valores para que queden alineados verticalmente."
   ]
  },
  {
   "cell_type": "code",
   "execution_count": null,
   "metadata": {},
   "outputs": [],
   "source": [
    "lista1 = [1, 2, 3, 4, 5, (6, 7)]\n",
    "tupla2 = ('a', 'b', 'c')\n",
    "tupla3 = ('a',)\n",
    "dicc1 = {'a': '1', 'b': '2', 'c': '3'}\n",
    "var1 = funcion1(var2, var3)\n",
    "\n",
    "# No se recomienda\n",
    "variable1 = 1\n",
    "par1      = True"
   ]
  },
  {
   "cell_type": "markdown",
   "metadata": {},
   "source": [
    "### Otras recomendaciones\n",
    "\n",
    "39. Aunque la sintaxis de Python lo permita no es recomendable escribir más de una declaración por línea:"
   ]
  },
  {
   "cell_type": "code",
   "execution_count": null,
   "metadata": {},
   "outputs": [],
   "source": [
    "def hacer():\n",
    "    pass\n",
    "\n",
    "def finalizar():\n",
    "    pass\n",
    "\n",
    "# Recomendado\n",
    "if var1 == 'a':\n",
    "    hacer()\n",
    "try:\n",
    "    print('Hecho')\n",
    "except ValueError:\n",
    "    print('Error')\n",
    "\n",
    "# No recomendado\n",
    "if var1 == 'a': hacer()\n",
    "try: hacer()\n",
    "except: print('error')\n",
    "finally: finalizar()"
   ]
  },
  {
   "cell_type": "markdown",
   "metadata": {},
   "source": [
    "40. Se aconseja utilizar comas finales en tuplas de un elemento y en listas que se extiendan por varias líneas, tras cada elemento."
   ]
  },
  {
   "cell_type": "code",
   "execution_count": null,
   "metadata": {},
   "outputs": [],
   "source": [
    "tupla1 = (var1,)\n",
    "lista1 = [\n",
    "    'uno.dat',\n",
    "    'dos.dat',\n",
    "    'tres.dat',\n",
    "]"
   ]
  },
  {
   "cell_type": "markdown",
   "metadata": {},
   "source": [
    "41. Para asignaciones de cadenas largas utilizar tantas cadenas entre comillas como sea necesario, ocupando cada una de ellas una línea y delimitadas por paréntesis en lugar de cadenas de documentación."
   ]
  },
  {
   "cell_type": "code",
   "execution_count": null,
   "metadata": {},
   "outputs": [],
   "source": [
    "# Recomendado\n",
    "cadena_larga = (\n",
    "    \"Uno, dos, tres, cuatro, cinco, seis, siete, \"\n",
    "    \"ocho, nueve y diez.\"\n",
    ")\n",
    "\n",
    "# No recomendado\n",
    "cadena_larga = \"\"\"Uno, dos, tres, cuatro, cinco, seis, siete, \\\n",
    "    ocho, nueve y diez.”\"\"\""
   ]
  },
  {
   "cell_type": "markdown",
   "metadata": {},
   "source": [
    "42. Para evaluar si una variable booleana tiene el valor True utilizar if var1 en lugar de if var1 == True:"
   ]
  },
  {
   "cell_type": "code",
   "execution_count": null,
   "metadata": {},
   "outputs": [],
   "source": [
    "# Recomendado\n",
    "if var1:\n",
    "    print('Es verdadero')   \n",
    "\n",
    "# No recomendado\n",
    "if var1 == True:\n",
    "    print('Es verdadero')\n"
   ]
  },
  {
   "cell_type": "markdown",
   "metadata": {},
   "source": [
    "43. Para evaluar si una cadena, lista o tupla están vacías o no tiene elementos utilizar if var1 o if not var1 en lugar de if len(var1) o if not len(var1)."
   ]
  },
  {
   "cell_type": "code",
   "execution_count": null,
   "metadata": {},
   "outputs": [],
   "source": [
    "variable1 = ''\n",
    "lista1 = []\n",
    "if not variable1 and not lista1:\n",
    "    print('Tanto la variable como la lista están vacías')"
   ]
  },
  {
   "cell_type": "markdown",
   "metadata": {},
   "source": [
    "44. Para evaluar si una variable tiene o no un valor definido utilizar if var1 is not None o if var is None en lugar de if var1 != None o if var1 == None."
   ]
  },
  {
   "cell_type": "code",
   "execution_count": null,
   "metadata": {},
   "outputs": [],
   "source": [
    "variable1 = None\n",
    "if variable1 is None:\n",
    "    print('La variable no tiene ningún valor definido')"
   ]
  },
  {
   "cell_type": "markdown",
   "metadata": {},
   "source": [
    "45. Para evaluar si una cadena de texto comienza o termina por otra utilizar los métodos startswith() y endswith() en lugar del método [:]."
   ]
  },
  {
   "cell_type": "code",
   "execution_count": null,
   "metadata": {},
   "outputs": [],
   "source": [
    "# Recomendado\n",
    "cadena = 'Python para programar'\n",
    "if cadena.startswith('Python'):\n",
    "    print('La cadena de texto comienza con \"Python\"')\n",
    "\n",
    "# No recomendado\n",
    "if cadena[0:6] == 'Python':\n",
    "    print('La cadena de texto comienza con \"Python\"')"
   ]
  },
  {
   "cell_type": "markdown",
   "metadata": {},
   "source": [
    "46. Para operar con cadenas utilizar preferentemente los métodos de cadenas en lugar del módulo string.\n",
    "\n",
    "47. Para comparar distintos tipos de objetos utilizar isinstance() en lugar de type()."
   ]
  },
  {
   "cell_type": "code",
   "execution_count": null,
   "metadata": {},
   "outputs": [],
   "source": [
    "variable1 = 3.5\n",
    "if isinstance(variable1, (int, float)):\n",
    "    print('La variable es de tipo numérica')"
   ]
  },
  {
   "cell_type": "markdown",
   "metadata": {},
   "source": [
    "48. En claúsulas try/except limitar try al mínimo de líneas y usar los nombres de las excepciones para capturar los errores."
   ]
  },
  {
   "cell_type": "code",
   "execution_count": null,
   "metadata": {},
   "outputs": [],
   "source": [
    "var1 = 10\n",
    "var2 = 10\n",
    "try:\n",
    "    var1 = var1 / var2\n",
    "    print(var1)\n",
    "except TypeError:    \n",
    "    print('Valor con Error')\n",
    "except ZeroDivisionError:\n",
    "    print('División por cero')"
   ]
  }
 ],
 "metadata": {
  "kernelspec": {
   "display_name": "Python 3",
   "language": "python",
   "name": "python3"
  },
  "language_info": {
   "codemirror_mode": {
    "name": "ipython",
    "version": 3
   },
   "file_extension": ".py",
   "mimetype": "text/x-python",
   "name": "python",
   "nbconvert_exporter": "python",
   "pygments_lexer": "ipython3",
   "version": "3.11.4"
  }
 },
 "nbformat": 4,
 "nbformat_minor": 4
}
