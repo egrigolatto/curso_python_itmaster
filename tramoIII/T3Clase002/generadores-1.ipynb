{
 "cells": [
  {
   "cell_type": "markdown",
   "metadata": {},
   "source": [
    "***\n",
    "# <center>Generadores en Python</center>\n",
    "***"
   ]
  },
  {
   "cell_type": "markdown",
   "metadata": {},
   "source": [
    "### Índice\n",
    "1. ¿Qué son los Generadores?\n",
    "2. Creando un Generador Básico\n",
    "3. Diferencia Entre return y yield\n",
    "4. Medición de Rendimiento\n",
    "5. ¿Cuándo Usar Generadores?\n",
    "6. Conclusión\n"
   ]
  },
  {
   "cell_type": "markdown",
   "metadata": {},
   "source": [
    "### 1. ¿Qué son los Generadores?\n",
    "Los generadores son una característica de Python que permite iterar sobre un conjunto de elementos sin necesidad de almacenarlos en memoria.  \n",
    "Son especialmente útiles cuando se trabaja con secuencias grandes de datos que no caben en la memoria o cuando se desea una ejecución \"perezosa\" (lazy) de la operación.\n",
    "\n",
    "### Ventajas:\n",
    "\n",
    "- Eficiente en memoria:  \n",
    "Genera elementos \"al vuelo\", no necesita almacenar toda la secuencia en memoria.  \n",
    "\n",
    "- Lazy evaluation:  \n",
    "Produce elementos sólo cuando son necesarios.  \n",
    "\n",
    "- Sintaxis sencilla:  \n",
    "Menos líneas de código y fácil de entender.\n",
    "\n",
    "- Estado :  \n",
    "Una función con return no tiene estado. Cada vez que las llamas, empieza de cero. Un generador con yield mantiene su estado entre llamadas, permitiéndote continuar desde donde lo dejaste.\n",
    "\n",
    "### 2. Creando un Generador Básico  \n",
    "\n",
    "Para crear un generador, usamos la palabra clave yield en lugar de return en una función.\n",
    "\n",
    "Ejemplo: Generar números del 0 al 9"
   ]
  },
  {
   "cell_type": "code",
   "execution_count": null,
   "metadata": {},
   "outputs": [],
   "source": [
    "def generar_numeros_otro():\n",
    "    lista = []\n",
    "    num = 0\n",
    "    while num < 10:\n",
    "        lista.append(num)\n",
    "        num += 1\n",
    "    return lista\n",
    "\n",
    "def generar_numeros():\n",
    "    n = 0\n",
    "    while n < 10:\n",
    "        yield n\n",
    "        n += 1\n",
    "\n",
    "# Usando el generador\n",
    "for num in generar_numeros():\n",
    "    print(num,end='\\t')\n",
    "\n",
    "print()\n",
    "\n",
    "# Usando la lista\n",
    "for num in generar_numeros_otro():\n",
    "    print(num,end='\\t')    "
   ]
  },
  {
   "cell_type": "markdown",
   "metadata": {},
   "source": [
    "### 3. Diferencia entre return y yield  \n",
    "\n",
    "- return: devuelve un valor y termina la función.  \n",
    "\n",
    "- yield: produce un valor y \"pausa\" la función, permitiendo reanudar desde este punto la próxima vez.  \n",
    "\n",
    "Ejemplo: Generar números Fibonacci  \n",
    "\n",
    "- Usando return"
   ]
  },
  {
   "cell_type": "code",
   "execution_count": 3,
   "metadata": {},
   "outputs": [
    {
     "name": "stdout",
     "output_type": "stream",
     "text": [
      "0 1 1 2 3 5 8 13 21 34 "
     ]
    }
   ],
   "source": [
    "def fibonacci_return(n):\n",
    "    numeros = []\n",
    "    a, b = 0, 1\n",
    "    for _ in range(n):\n",
    "        numeros.append(a)\n",
    "        a, b = b, a + b\n",
    "    return numeros\n",
    "\n",
    "for x in fibonacci_return(10):\n",
    "    print(x,end=' ')"
   ]
  },
  {
   "cell_type": "markdown",
   "metadata": {},
   "source": [
    "- Usando yield"
   ]
  },
  {
   "cell_type": "code",
   "execution_count": 4,
   "metadata": {},
   "outputs": [
    {
     "name": "stdout",
     "output_type": "stream",
     "text": [
      "0 1 1 2 3 5 8 13 21 34 "
     ]
    }
   ],
   "source": [
    "def fibonacci_yield(n):\n",
    "    a, b = 0, 1\n",
    "    for _ in range(n):\n",
    "        yield a\n",
    "        a, b = b, a + b\n",
    "\n",
    "for x in  fibonacci_yield(10):\n",
    "    print(x,end=' ')"
   ]
  },
  {
   "cell_type": "markdown",
   "metadata": {},
   "source": [
    "### 4. Medición de rendimiento  \n",
    "\n",
    "Para evaluar el rendimiento, consideramos el tiempo de ejecución y el uso de memoria.\n",
    "\n",
    "- Medición de tiempo usando return"
   ]
  },
  {
   "cell_type": "code",
   "execution_count": 5,
   "metadata": {},
   "outputs": [
    {
     "name": "stdout",
     "output_type": "stream",
     "text": [
      "Tiempo usando return: 2.8064217567443848 segundos\n",
      "Memoria usando return: 800984 bytes\n"
     ]
    }
   ],
   "source": [
    "import time\n",
    "import sys\n",
    "\n",
    "def fibonacci_return(n):\n",
    "    numeros = []\n",
    "    a, b = 0, 1\n",
    "    for _ in range(n):\n",
    "        numeros.append(a)\n",
    "        a, b = b, a + b\n",
    "    return numeros\n",
    "\n",
    "\n",
    "# Medir memoria y tiempo con return\n",
    "inicio = time.time()\n",
    "\n",
    "fib_return = fibonacci_return(100000)  # 100,000\n",
    "\n",
    "for num in fib_return:\n",
    "    pass\n",
    "\n",
    "fin = time.time()\n",
    "\n",
    "print(f\"Tiempo usando return: {fin - inicio} segundos\")\n",
    "print(f\"Memoria usando return: {sys.getsizeof(fib_return)} bytes\")"
   ]
  },
  {
   "cell_type": "markdown",
   "metadata": {},
   "source": [
    "- Medición de tiempo usando yield"
   ]
  },
  {
   "cell_type": "code",
   "execution_count": 6,
   "metadata": {},
   "outputs": [
    {
     "name": "stdout",
     "output_type": "stream",
     "text": [
      "Tiempo usando yield: 0.5476388931274414 segundos\n",
      "Memoria usando yield: 104 bytes\n"
     ]
    }
   ],
   "source": [
    "import time\n",
    "import sys\n",
    "\n",
    "# Medir memoria y tiempo con yield\n",
    "\n",
    "inicio = time.time()\n",
    "\n",
    "fib_yield = fibonacci_yield(100000)  # 100,000\n",
    "\n",
    "for num in fib_yield:\n",
    "    pass\n",
    "\n",
    "fin = time.time()\n",
    "\n",
    "print(f\"Tiempo usando yield: {fin - inicio} segundos\")\n",
    "print(f\"Memoria usando yield: {sys.getsizeof(fib_yield)} bytes\")"
   ]
  },
  {
   "cell_type": "markdown",
   "metadata": {},
   "source": [
    "La cantidad de memoria utilizada por el generador es significativamente menor en comparación con la lista, especialmente a medida que la cantidad de elementos aumenta. Esto se debe a que el generador genera valores sobre la marcha y no los guarda todos en memoria, a diferencia de la lista.  \n",
    "\n",
    "### 5. ¿Cuándo Usar Generadores?  \n",
    "\n",
    "Usar generadores cuando:  \n",
    "\n",
    "- Se está trabajando con una gran cantidad de datos que no caben en memoria.\n",
    "- Sólo se necesita acceder a los datos una vez y no se necesita almacenarlos para futuras operaciones.  \n",
    "- Se quiere simplificar el código haciendo que sea más legible y mantenible.  \n",
    "\n",
    "No usar generadores cuando:  \n",
    "\n",
    "- Se necesita acceder a los mismos datos múltiples veces.  \n",
    "- Se necesita usar funcionalidades de las listas como ordenar, agregar, etc.  \n",
    "\n",
    "### 6. Conclusión  \n",
    "\n",
    "Los generadores son una herramienta poderosa en Python para escribir código más eficiente en términos de memoria y más legible. Son especialmente útiles para grandes conjuntos de datos y para implementaciones donde sólo se necesita una evaluación \"perezosa\" (lazy) de los datos."
   ]
  }
 ],
 "metadata": {
  "kernelspec": {
   "display_name": "Python 3",
   "language": "python",
   "name": "python3"
  },
  "language_info": {
   "codemirror_mode": {
    "name": "ipython",
    "version": 3
   },
   "file_extension": ".py",
   "mimetype": "text/x-python",
   "name": "python",
   "nbconvert_exporter": "python",
   "pygments_lexer": "ipython3",
   "version": "3.10.4"
  },
  "orig_nbformat": 4
 },
 "nbformat": 4,
 "nbformat_minor": 2
}
